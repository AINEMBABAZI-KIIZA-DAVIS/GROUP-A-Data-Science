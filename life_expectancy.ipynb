{
 "cells": [
  {
   "cell_type": "code",
   "execution_count": 2,
   "id": "5a238088",
   "metadata": {},
   "outputs": [],
   "source": [
    "import pandas as pd\n",
    "import matplotlib.pyplot as plt\n",
    "import seaborn as sns\n",
    "import numpy as np"
   ]
  },
  {
   "cell_type": "code",
   "execution_count": 3,
   "id": "84b9b8db",
   "metadata": {},
   "outputs": [],
   "source": [
    "#load the dataset\n",
    "df = pd.read_csv('life_expectancy_data.csv')"
   ]
  },
  {
   "cell_type": "code",
   "execution_count": 4,
   "id": "bffcabe9",
   "metadata": {},
   "outputs": [
    {
     "name": "stdout",
     "output_type": "stream",
     "text": [
      "First 5 rows of the dataset:\n",
      "       Country  Year      Status  Life expectancy   Adult Mortality  \\\n",
      "0  Afghanistan  2015  Developing              65.0              263   \n",
      "1  Afghanistan  2014  Developing              59.9              271   \n",
      "2  Afghanistan  2013  Developing              59.9              268   \n",
      "3  Afghanistan  2012  Developing              59.5              272   \n",
      "4  Afghanistan  2011  Developing              59.2              275   \n",
      "\n",
      "   infant deaths  Alcohol  percentage expenditure  Hepatitis B  Measles   ...  \\\n",
      "0             62     0.01               71.279624           65      1154  ...   \n",
      "1             64     0.01               73.523582           62       492  ...   \n",
      "2             66     0.01               73.219243           64       430  ...   \n",
      "3             69     0.01               78.184215           67      2787  ...   \n",
      "4             71     0.01                7.097109           68      3013  ...   \n",
      "\n",
      "   Polio  Total expenditure  Diphtheria    HIV/AIDS         GDP  Population  \\\n",
      "0      6               8.16           65        0.1  584.259210  33736494.0   \n",
      "1     58               8.18           62        0.1  612.696514    327582.0   \n",
      "2     62               8.13           64        0.1  631.744976  31731688.0   \n",
      "3     67               8.52           67        0.1  669.959000   3696958.0   \n",
      "4     68               7.87           68        0.1   63.537231   2978599.0   \n",
      "\n",
      "    thinness  1-19 years   thinness 5-9 years  \\\n",
      "0                   17.2                 17.3   \n",
      "1                   17.5                 17.5   \n",
      "2                   17.7                 17.7   \n",
      "3                   17.9                 18.0   \n",
      "4                   18.2                 18.2   \n",
      "\n",
      "   Income composition of resources  Schooling  \n",
      "0                            0.479       10.1  \n",
      "1                            0.476       10.0  \n",
      "2                            0.470        9.9  \n",
      "3                            0.463        9.8  \n",
      "4                            0.454        9.5  \n",
      "\n",
      "[5 rows x 22 columns]\n"
     ]
    }
   ],
   "source": [
    "#display the first 5 rows of the dataset\n",
    "print('First 5 rows of the dataset:')\n",
    "print(df.head())"
   ]
  },
  {
   "cell_type": "code",
   "execution_count": 5,
   "id": "3ae15b6e",
   "metadata": {},
   "outputs": [
    {
     "name": "stdout",
     "output_type": "stream",
     "text": [
      "\n",
      "Information about the dataset:\n",
      "<class 'pandas.core.frame.DataFrame'>\n",
      "RangeIndex: 1649 entries, 0 to 1648\n",
      "Data columns (total 22 columns):\n",
      " #   Column                           Non-Null Count  Dtype  \n",
      "---  ------                           --------------  -----  \n",
      " 0   Country                          1649 non-null   object \n",
      " 1   Year                             1649 non-null   int64  \n",
      " 2   Status                           1649 non-null   object \n",
      " 3   Life expectancy                  1649 non-null   float64\n",
      " 4   Adult Mortality                  1649 non-null   int64  \n",
      " 5   infant deaths                    1649 non-null   int64  \n",
      " 6   Alcohol                          1649 non-null   float64\n",
      " 7   percentage expenditure           1649 non-null   float64\n",
      " 8   Hepatitis B                      1649 non-null   int64  \n",
      " 9   Measles                          1649 non-null   int64  \n",
      " 10   BMI                             1649 non-null   float64\n",
      " 11  under-five deaths                1649 non-null   int64  \n",
      " 12  Polio                            1649 non-null   int64  \n",
      " 13  Total expenditure                1649 non-null   float64\n",
      " 14  Diphtheria                       1649 non-null   int64  \n",
      " 15   HIV/AIDS                        1649 non-null   float64\n",
      " 16  GDP                              1649 non-null   float64\n",
      " 17  Population                       1649 non-null   float64\n",
      " 18   thinness  1-19 years            1649 non-null   float64\n",
      " 19   thinness 5-9 years              1649 non-null   float64\n",
      " 20  Income composition of resources  1649 non-null   float64\n",
      " 21  Schooling                        1649 non-null   float64\n",
      "dtypes: float64(12), int64(8), object(2)\n",
      "memory usage: 283.6+ KB\n"
     ]
    }
   ],
   "source": [
    "print('\\nInformation about the dataset:')\n",
    "df.info()"
   ]
  },
  {
   "cell_type": "code",
   "execution_count": 6,
   "id": "f2586c35",
   "metadata": {},
   "outputs": [
    {
     "name": "stdout",
     "output_type": "stream",
     "text": [
      "\n",
      "Descriptive statistics of the dataset:\n",
      "              Year  Life expectancy   Adult Mortality  infant deaths  \\\n",
      "count  1649.000000       1649.000000      1649.000000    1649.000000   \n",
      "mean   2007.840509         69.302304       168.215282      32.553062   \n",
      "std       4.087711          8.796834       125.310417     120.847190   \n",
      "min    2000.000000         44.000000         1.000000       0.000000   \n",
      "25%    2005.000000         64.400000        77.000000       1.000000   \n",
      "50%    2008.000000         71.700000       148.000000       3.000000   \n",
      "75%    2011.000000         75.000000       227.000000      22.000000   \n",
      "max    2015.000000         89.000000       723.000000    1600.000000   \n",
      "\n",
      "           Alcohol  percentage expenditure  Hepatitis B       Measles   \\\n",
      "count  1649.000000             1649.000000  1649.000000    1649.000000   \n",
      "mean      4.533196              698.973558    79.217708    2224.494239   \n",
      "std       4.029189             1759.229336    25.604664   10085.802019   \n",
      "min       0.010000                0.000000     2.000000       0.000000   \n",
      "25%       0.810000               37.438577    74.000000       0.000000   \n",
      "50%       3.790000              145.102253    89.000000      15.000000   \n",
      "75%       7.340000              509.389994    96.000000     373.000000   \n",
      "max      17.870000            18961.348600    99.000000  131441.000000   \n",
      "\n",
      "              BMI   under-five deaths         Polio  Total expenditure  \\\n",
      "count  1649.000000         1649.000000  1649.000000        1649.000000   \n",
      "mean     38.128623           44.220133    83.564585           5.955925   \n",
      "std      19.754249          162.897999    22.450557           2.299385   \n",
      "min       2.000000            0.000000     3.000000           0.740000   \n",
      "25%      19.500000            1.000000    81.000000           4.410000   \n",
      "50%      43.700000            4.000000    93.000000           5.840000   \n",
      "75%      55.800000           29.000000    97.000000           7.470000   \n",
      "max      77.100000         2100.000000    99.000000          14.390000   \n",
      "\n",
      "       Diphtheria      HIV/AIDS            GDP    Population  \\\n",
      "count  1649.000000  1649.000000    1649.000000  1.649000e+03   \n",
      "mean     84.155246     1.983869    5566.031887  1.465363e+07   \n",
      "std      21.579193     6.032360   11475.900117  7.046039e+07   \n",
      "min       2.000000     0.100000       1.681350  3.400000e+01   \n",
      "25%      82.000000     0.100000     462.149650  1.918970e+05   \n",
      "50%      92.000000     0.100000    1592.572182  1.419631e+06   \n",
      "75%      97.000000     0.700000    4718.512910  7.658972e+06   \n",
      "max      99.000000    50.600000  119172.741800  1.293859e+09   \n",
      "\n",
      "        thinness  1-19 years   thinness 5-9 years  \\\n",
      "count            1649.000000          1649.000000   \n",
      "mean                4.850637             4.907762   \n",
      "std                 4.599228             4.653757   \n",
      "min                 0.100000             0.100000   \n",
      "25%                 1.600000             1.700000   \n",
      "50%                 3.000000             3.200000   \n",
      "75%                 7.100000             7.100000   \n",
      "max                27.200000            28.200000   \n",
      "\n",
      "       Income composition of resources    Schooling  \n",
      "count                      1649.000000  1649.000000  \n",
      "mean                          0.631551    12.119891  \n",
      "std                           0.183089     2.795388  \n",
      "min                           0.000000     4.200000  \n",
      "25%                           0.509000    10.300000  \n",
      "50%                           0.673000    12.300000  \n",
      "75%                           0.751000    14.000000  \n",
      "max                           0.936000    20.700000  \n"
     ]
    }
   ],
   "source": [
    "#get a summary of the dataset\n",
    "#this includes the index dtype and columns, non-null values and memory usage\n",
    "print('\\nDescriptive statistics of the dataset:')\n",
    "print(df.describe())"
   ]
  },
  {
   "cell_type": "code",
   "execution_count": 7,
   "id": "120e7350",
   "metadata": {},
   "outputs": [
    {
     "name": "stdout",
     "output_type": "stream",
     "text": [
      "\n",
      "Number of missing values in each column:\n",
      "Country                            0\n",
      "Year                               0\n",
      "Status                             0\n",
      "Life expectancy                    0\n",
      "Adult Mortality                    0\n",
      "infant deaths                      0\n",
      "Alcohol                            0\n",
      "percentage expenditure             0\n",
      "Hepatitis B                        0\n",
      "Measles                            0\n",
      " BMI                               0\n",
      "under-five deaths                  0\n",
      "Polio                              0\n",
      "Total expenditure                  0\n",
      "Diphtheria                         0\n",
      " HIV/AIDS                          0\n",
      "GDP                                0\n",
      "Population                         0\n",
      " thinness  1-19 years              0\n",
      " thinness 5-9 years                0\n",
      "Income composition of resources    0\n",
      "Schooling                          0\n",
      "dtype: int64\n"
     ]
    }
   ],
   "source": [
    "#check for the number of missing values in each column\n",
    "print('\\nNumber of missing values in each column:')\n",
    "print(df.isnull().sum())"
   ]
  },
  {
   "cell_type": "code",
   "execution_count": 8,
   "id": "a72455d7",
   "metadata": {},
   "outputs": [
    {
     "name": "stdout",
     "output_type": "stream",
     "text": [
      "\n",
      "Percentage of missing values in each column:\n",
      "Country                            0.0\n",
      "Year                               0.0\n",
      "Status                             0.0\n",
      "Life expectancy                    0.0\n",
      "Adult Mortality                    0.0\n",
      "infant deaths                      0.0\n",
      "Alcohol                            0.0\n",
      "percentage expenditure             0.0\n",
      "Hepatitis B                        0.0\n",
      "Measles                            0.0\n",
      " BMI                               0.0\n",
      "under-five deaths                  0.0\n",
      "Polio                              0.0\n",
      "Total expenditure                  0.0\n",
      "Diphtheria                         0.0\n",
      " HIV/AIDS                          0.0\n",
      "GDP                                0.0\n",
      "Population                         0.0\n",
      " thinness  1-19 years              0.0\n",
      " thinness 5-9 years                0.0\n",
      "Income composition of resources    0.0\n",
      "Schooling                          0.0\n",
      "dtype: float64\n"
     ]
    }
   ],
   "source": [
    "#calculate the percentage of missing values in each column\n",
    "missing_percentage = df.isnull().mean() * 100\n",
    "print('\\nPercentage of missing values in each column:')\n",
    "print(missing_percentage)"
   ]
  },
  {
   "cell_type": "code",
   "execution_count": 19,
   "id": "bf72fb27",
   "metadata": {},
   "outputs": [
    {
     "name": "stdout",
     "output_type": "stream",
     "text": [
      "\n",
      "No missing values found in the dataset.\n"
     ]
    }
   ],
   "source": [
    "#implementation step\n",
    "#since there are no missing values, no implementation is needed\n",
    "#we can add a check to confirm this\n",
    "\n",
    "missing_values_count = df.isnull().sum().sum()\n",
    "if missing_values_count == 0:\n",
    "    print(\"\\nNo missing values found in the dataset.\")\n",
    "else:\n",
    "    print(f\"\\nThere are {missing_values_count} missing values in the dataset.\")\n",
    "    #you can implement a strategy to handle missing values here if needed"
   ]
  }
 ],
 "metadata": {
  "kernelspec": {
   "display_name": "Python 3",
   "language": "python",
   "name": "python3"
  },
  "language_info": {
   "codemirror_mode": {
    "name": "ipython",
    "version": 3
   },
   "file_extension": ".py",
   "mimetype": "text/x-python",
   "name": "python",
   "nbconvert_exporter": "python",
   "pygments_lexer": "ipython3",
   "version": "3.12.3"
  }
 },
 "nbformat": 4,
 "nbformat_minor": 5
}
