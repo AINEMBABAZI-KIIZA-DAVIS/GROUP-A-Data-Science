{
 "cells": [
  {
   "cell_type": "markdown",
   "id": "f599bc77",
   "metadata": {},
   "source": [
    "## Model Training: Predicting Life Expectancy\n",
    "\n"
   ]
  },
  {
   "cell_type": "markdown",
   "id": "5e18f3a1",
   "metadata": {},
   "source": [
    "### Introduction\n",
    "Having completed the data science analysis, this section focuses on building a regression model to accurately estimate life expectancy across different populations using the available dataset."
   ]
  },
  {
   "cell_type": "markdown",
   "id": "49d149ee",
   "metadata": {},
   "source": [
    "### Methodology\n",
    "\n",
    "To build an effective regression model for predicting life expectancy,  we will follow the steps outlined below:\n",
    "\n",
    "1. **Import Libraries and Load Data:**  \n",
    "     import Python libraries and load the life expectancy dataset.\n",
    "\n",
    "2. **Data Preprocessing:**  \n",
    "     prepare data for modeling\n",
    "\n",
    "3. **Feature Selection and Engineering:**  \n",
    "   Select and engineer relevant features to improve model performance.\n",
    "\n",
    "4. **Data Splitting:**  \n",
    "   Split the dataset into training and testing sets to evaluate model performance on unseen data.\n",
    "\n",
    "5. **Feature Scaling:**  \n",
    "   Normalize or standardize features.\n",
    "\n",
    "6. **Model Training:**  \n",
    "   Train  regression models (Linear Regression, Ridge, Lasso, Random Forest, XGBoost).\n",
    "\n",
    "7. **Model Evaluation:**  \n",
    "   Assess model performance using suitable metrics (RMSE, R²).\n",
    "\n",
    "8. **Cross-Validation:**  \n",
    "   Perform cross-validation to ensure the robustness and generalizability of the models.\n",
    "\n",
    "9. **Feature Impact Analysis:**  \n",
    "   Evaluate how newly engineered features influence model performance.\n",
    "\n",
    "10. **Model Saving and Deployment:**  \n",
    "    Save the best performing model for future predictions.\n",
    "\n",
    "\n"
   ]
  },
  {
   "cell_type": "markdown",
   "id": "d6608bf3",
   "metadata": {},
   "source": [
    "#### Task 1  Imports and Data Loading"
   ]
  },
  {
   "cell_type": "code",
<<<<<<< HEAD
   "execution_count": 30,
=======
   "execution_count": 57,
>>>>>>> 950badd8db4f8f1c8ecadf352c3e5565d462410e
   "id": "a6bb6e42-8195-4b54-b8aa-163fdf99d302",
   "metadata": {},
   "outputs": [
    {
     "data": {
      "text/html": [
       "<div>\n",
       "<style scoped>\n",
       "    .dataframe tbody tr th:only-of-type {\n",
       "        vertical-align: middle;\n",
       "    }\n",
       "\n",
       "    .dataframe tbody tr th {\n",
       "        vertical-align: top;\n",
       "    }\n",
       "\n",
       "    .dataframe thead th {\n",
       "        text-align: right;\n",
       "    }\n",
       "</style>\n",
       "<table border=\"1\" class=\"dataframe\">\n",
       "  <thead>\n",
       "    <tr style=\"text-align: right;\">\n",
       "      <th></th>\n",
       "      <th>Country</th>\n",
       "      <th>Year</th>\n",
       "      <th>Status</th>\n",
       "      <th>Life expectancy</th>\n",
       "      <th>Adult Mortality</th>\n",
       "      <th>infant deaths</th>\n",
       "      <th>Alcohol</th>\n",
       "      <th>percentage expenditure</th>\n",
       "      <th>Hepatitis B</th>\n",
       "      <th>Measles</th>\n",
       "      <th>...</th>\n",
       "      <th>Polio</th>\n",
       "      <th>Total expenditure</th>\n",
       "      <th>Diphtheria</th>\n",
       "      <th>HIV/AIDS</th>\n",
       "      <th>GDP</th>\n",
       "      <th>Population</th>\n",
       "      <th>thinness  1-19 years</th>\n",
       "      <th>thinness 5-9 years</th>\n",
       "      <th>Income composition of resources</th>\n",
       "      <th>Schooling</th>\n",
       "    </tr>\n",
       "  </thead>\n",
       "  <tbody>\n",
       "    <tr>\n",
       "      <th>0</th>\n",
       "      <td>Afghanistan</td>\n",
       "      <td>2015</td>\n",
       "      <td>Developing</td>\n",
       "      <td>65.0</td>\n",
       "      <td>263</td>\n",
       "      <td>62</td>\n",
       "      <td>0.01</td>\n",
       "      <td>71.279624</td>\n",
       "      <td>65</td>\n",
       "      <td>1154</td>\n",
       "      <td>...</td>\n",
       "      <td>6</td>\n",
       "      <td>8.16</td>\n",
       "      <td>65</td>\n",
       "      <td>0.1</td>\n",
       "      <td>584.259210</td>\n",
       "      <td>33736494.0</td>\n",
       "      <td>17.2</td>\n",
       "      <td>17.3</td>\n",
       "      <td>0.479</td>\n",
       "      <td>10.1</td>\n",
       "    </tr>\n",
       "    <tr>\n",
       "      <th>1</th>\n",
       "      <td>Afghanistan</td>\n",
       "      <td>2014</td>\n",
       "      <td>Developing</td>\n",
       "      <td>59.9</td>\n",
       "      <td>271</td>\n",
       "      <td>64</td>\n",
       "      <td>0.01</td>\n",
       "      <td>73.523582</td>\n",
       "      <td>62</td>\n",
       "      <td>492</td>\n",
       "      <td>...</td>\n",
       "      <td>58</td>\n",
       "      <td>8.18</td>\n",
       "      <td>62</td>\n",
       "      <td>0.1</td>\n",
       "      <td>612.696514</td>\n",
       "      <td>327582.0</td>\n",
       "      <td>17.5</td>\n",
       "      <td>17.5</td>\n",
       "      <td>0.476</td>\n",
       "      <td>10.0</td>\n",
       "    </tr>\n",
       "    <tr>\n",
       "      <th>2</th>\n",
       "      <td>Afghanistan</td>\n",
       "      <td>2013</td>\n",
       "      <td>Developing</td>\n",
       "      <td>59.9</td>\n",
       "      <td>268</td>\n",
       "      <td>66</td>\n",
       "      <td>0.01</td>\n",
       "      <td>73.219243</td>\n",
       "      <td>64</td>\n",
       "      <td>430</td>\n",
       "      <td>...</td>\n",
       "      <td>62</td>\n",
       "      <td>8.13</td>\n",
       "      <td>64</td>\n",
       "      <td>0.1</td>\n",
       "      <td>631.744976</td>\n",
       "      <td>31731688.0</td>\n",
       "      <td>17.7</td>\n",
       "      <td>17.7</td>\n",
       "      <td>0.470</td>\n",
       "      <td>9.9</td>\n",
       "    </tr>\n",
       "    <tr>\n",
       "      <th>3</th>\n",
       "      <td>Afghanistan</td>\n",
       "      <td>2012</td>\n",
       "      <td>Developing</td>\n",
       "      <td>59.5</td>\n",
       "      <td>272</td>\n",
       "      <td>69</td>\n",
       "      <td>0.01</td>\n",
       "      <td>78.184215</td>\n",
       "      <td>67</td>\n",
       "      <td>2787</td>\n",
       "      <td>...</td>\n",
       "      <td>67</td>\n",
       "      <td>8.52</td>\n",
       "      <td>67</td>\n",
       "      <td>0.1</td>\n",
       "      <td>669.959000</td>\n",
       "      <td>3696958.0</td>\n",
       "      <td>17.9</td>\n",
       "      <td>18.0</td>\n",
       "      <td>0.463</td>\n",
       "      <td>9.8</td>\n",
       "    </tr>\n",
       "    <tr>\n",
       "      <th>4</th>\n",
       "      <td>Afghanistan</td>\n",
       "      <td>2011</td>\n",
       "      <td>Developing</td>\n",
       "      <td>59.2</td>\n",
       "      <td>275</td>\n",
       "      <td>71</td>\n",
       "      <td>0.01</td>\n",
       "      <td>7.097109</td>\n",
       "      <td>68</td>\n",
       "      <td>3013</td>\n",
       "      <td>...</td>\n",
       "      <td>68</td>\n",
       "      <td>7.87</td>\n",
       "      <td>68</td>\n",
       "      <td>0.1</td>\n",
       "      <td>63.537231</td>\n",
       "      <td>2978599.0</td>\n",
       "      <td>18.2</td>\n",
       "      <td>18.2</td>\n",
       "      <td>0.454</td>\n",
       "      <td>9.5</td>\n",
       "    </tr>\n",
       "  </tbody>\n",
       "</table>\n",
       "<p>5 rows × 22 columns</p>\n",
       "</div>"
      ],
      "text/plain": [
       "       Country  Year      Status  Life expectancy   Adult Mortality  \\\n",
       "0  Afghanistan  2015  Developing              65.0              263   \n",
       "1  Afghanistan  2014  Developing              59.9              271   \n",
       "2  Afghanistan  2013  Developing              59.9              268   \n",
       "3  Afghanistan  2012  Developing              59.5              272   \n",
       "4  Afghanistan  2011  Developing              59.2              275   \n",
       "\n",
       "   infant deaths  Alcohol  percentage expenditure  Hepatitis B  Measles   ...  \\\n",
       "0             62     0.01               71.279624           65      1154  ...   \n",
       "1             64     0.01               73.523582           62       492  ...   \n",
       "2             66     0.01               73.219243           64       430  ...   \n",
       "3             69     0.01               78.184215           67      2787  ...   \n",
       "4             71     0.01                7.097109           68      3013  ...   \n",
       "\n",
       "   Polio  Total expenditure  Diphtheria    HIV/AIDS         GDP  Population  \\\n",
       "0      6               8.16           65        0.1  584.259210  33736494.0   \n",
       "1     58               8.18           62        0.1  612.696514    327582.0   \n",
       "2     62               8.13           64        0.1  631.744976  31731688.0   \n",
       "3     67               8.52           67        0.1  669.959000   3696958.0   \n",
       "4     68               7.87           68        0.1   63.537231   2978599.0   \n",
       "\n",
       "    thinness  1-19 years   thinness 5-9 years  \\\n",
       "0                   17.2                 17.3   \n",
       "1                   17.5                 17.5   \n",
       "2                   17.7                 17.7   \n",
       "3                   17.9                 18.0   \n",
       "4                   18.2                 18.2   \n",
       "\n",
       "   Income composition of resources  Schooling  \n",
       "0                            0.479       10.1  \n",
       "1                            0.476       10.0  \n",
       "2                            0.470        9.9  \n",
       "3                            0.463        9.8  \n",
       "4                            0.454        9.5  \n",
       "\n",
       "[5 rows x 22 columns]"
      ]
     },
<<<<<<< HEAD
     "execution_count": 30,
=======
     "execution_count": 57,
>>>>>>> 950badd8db4f8f1c8ecadf352c3e5565d462410e
     "metadata": {},
     "output_type": "execute_result"
    }
   ],
   "source": [
    "# Import essential libraries\n",
    "import pandas as pd\n",
    "import numpy as np\n",
    "\n",
    "# Machine Learning libraries\n",
    "from sklearn.model_selection import train_test_split\n",
    "from sklearn.linear_model import LinearRegression\n",
    "from sklearn.metrics import mean_squared_error, r2_score\n",
    "\n",
    "# Load the life expectancy dataset\n",
    "df = pd.read_csv('Life_Expectancy_Data.csv')\n",
    "\n",
    "# Display the first few rows to inspect the data\n",
    "df.head()"
   ]
  },
  {
   "cell_type": "markdown",
   "id": "f3bdba64-a57b-493d-b904-b1233a90cd38",
   "metadata": {},
   "source": [
    "#### Task 2 Preprocessing "
   ]
  },
  {
   "cell_type": "code",
<<<<<<< HEAD
   "execution_count": 31,
=======
   "execution_count": 58,
>>>>>>> 950badd8db4f8f1c8ecadf352c3e5565d462410e
   "id": "c4502763-ff6d-49d3-ba0e-d81a2474181a",
   "metadata": {},
   "outputs": [],
   "source": [
    "# Clean column names (remove leading/trailing spaces)\n",
    "df.columns = df.columns.str.strip()\n",
    "\n",
    "\n",
    "# Drop 'Country' for simplicity (can be one-hot encoded if needed)\n",
    "df = df.drop(columns=['Country'])\n",
    "\n",
    "# Encode 'Status' (Developed/Developing) to numeric\n",
    "df['Status'] = df['Status'].map({'Developed': 1, 'Developing': 0})\n",
    "\n"
   ]
  },
  {
   "cell_type": "markdown",
   "id": "f81d0e98-6478-4efc-bb5f-1a5e39ae13e6",
   "metadata": {},
   "source": [
    "#### Task 3  Feature Selection and Engineering\n"
   ]
  },
  {
   "cell_type": "code",
<<<<<<< HEAD
   "execution_count": null,
=======
   "execution_count": 59,
>>>>>>> 950badd8db4f8f1c8ecadf352c3e5565d462410e
   "id": "9e8c3ce6-404b-4a94-b221-3d7e4b012927",
   "metadata": {},
   "outputs": [
    {
     "name": "stdout",
     "output_type": "stream",
     "text": [
      "Features shape: (1649, 18)\n",
      "Target shape: (1649,)\n"
     ]
    }
   ],
   "source": [
    "# List all columns\n",
    "#print(\"Available columns:\")\n",
    "#print(df.columns.tolist())\n",
    "\n",
    "# Select features to use for prediction (excluding the target 'Life expectancy')\n",
    "\n",
    "features = [\n",
    "    'Year', 'Status', 'Adult Mortality', 'infant deaths', 'Alcohol',\n",
    "    'percentage expenditure', 'Hepatitis B', 'Measles', 'BMI', 'under-five deaths',\n",
    "    'Polio', 'Total expenditure', 'Diphtheria', 'HIV/AIDS', 'GDP', 'Population', 'Income composition of resources',\n",
    "    'Schooling'\n",
    "]\n",
    "\n",
    "target = 'Life expectancy'\n",
    "\n",
    "X = df[features]\n",
    "y = df[target]\n",
    "\n",
    "# Display the shape of feature matrix and target vector\n",
    "print(f\"Features shape: {X.shape}\")\n",
    "print(f\"Target shape: {y.shape}\")"
   ]
  },
  {
   "cell_type": "markdown",
   "id": "4ab1b45d-4b8e-4692-bbd4-c0ffc76b3f31",
   "metadata": {},
   "source": [
    "#### Explanation\n",
    "The feature matrix X contains all the features selected to estimate life expectancy. It has a shape of (1649, 18), meaning it includes 1,649 observations (rows) and 18 features (columns).\n",
    "\n",
    "The target vector y represents the life expectancy values we aim to predict. It has a shape of (1649,), indicating that there is one target value for each of the 1,649 observations.\n",
    "\n",
    "This confirms that each row of input features corresponds to one target value, ensuring the dataset is properly aligned for regression model training."
   ]
  },
  {
   "cell_type": "markdown",
   "id": "ae98681a-e310-429a-8e26-3d565d442d0f",
   "metadata": {},
   "source": [
    "#### Task 4 Data Splitting"
   ]
  },
  {
   "cell_type": "markdown",
   "id": "d3001ab9-9a48-47e2-b163-6a2ab57c80ba",
   "metadata": {},
   "source": [
    "We split the dataset into training and test sets. The training set is used to train the model, while the test set is used to evaluate its performance on unseen data."
   ]
  },
  {
   "cell_type": "code",
<<<<<<< HEAD
   "execution_count": 33,
=======
   "execution_count": 60,
>>>>>>> 950badd8db4f8f1c8ecadf352c3e5565d462410e
   "id": "c98b044b-7f42-4355-8900-7cb4ce4a34a9",
   "metadata": {},
   "outputs": [
    {
     "name": "stdout",
     "output_type": "stream",
     "text": [
      "Training set size: 1319\n",
      "Test set size: 330\n"
     ]
    }
   ],
   "source": [
    "# Split the data into training and test sets (80% train, 20% test)\n",
    "X_train, X_test, y_train, y_test = train_test_split(\n",
    "    X, y, test_size=0.2, random_state=42\n",
    ")\n",
    "\n",
    "# Print the number of samples in each set\n",
    "print(f\"Training set size: {X_train.shape[0]}\")\n",
    "print(f\"Test set size: {X_test.shape[0]}\")\n"
   ]
  },
  {
   "cell_type": "markdown",
   "id": "4f754e9f-81bc-4e7b-9e2d-20e91eee9d5f",
   "metadata": {},
   "source": [
    "#### Explanation\n",
    "To evaluate the model’s ability to generalize to new, unseen data, the dataset was split into two parts:\n",
    "\n",
    "Training set (80%): Used to train the machine learning model.\n",
    "\n",
    "Test set (20%): Used to evaluate the model’s performance on data it hasn't seen before.\n",
    "\n",
    "With a total of 1,649 records, the split resulted in:\n",
    "\n",
    "1,319 samples in the training set\n",
    "\n",
    "330 samples in the test set\n",
    "\n",
    "This split ensures that the model has sufficient data to learn from while also allowing for a reliable assessment of its predictive performance."
   ]
  },
  {
   "cell_type": "markdown",
   "id": "9c735871-3221-46bb-bc65-857a85cc53d1",
   "metadata": {},
   "source": [
    "#### Task 5 Feature Scaling "
   ]
  },
  {
   "cell_type": "markdown",
   "id": "3139ed86-87af-4700-b8a8-bd9f1a279210",
   "metadata": {},
   "source": [
    "To ensure all features contribute equally to the model, we scale the feature values. This is especially useful when features are measured on different scales."
   ]
  },
  {
   "cell_type": "code",
<<<<<<< HEAD
   "execution_count": 34,
=======
   "execution_count": 61,
>>>>>>> 950badd8db4f8f1c8ecadf352c3e5565d462410e
   "id": "d1c54be6-c65e-4a49-ba57-d2c42a17cbc4",
   "metadata": {},
   "outputs": [
    {
     "name": "stdout",
     "output_type": "stream",
     "text": [
      "Scaled training features shape: (1319, 18)\n",
      "Scaled test features shape: (330, 18)\n"
     ]
    }
   ],
   "source": [
    "from sklearn.preprocessing import StandardScaler\n",
    "\n",
    "# Initialize the scaler\n",
    "scaler = StandardScaler()\n",
    "\n",
    "# Fit the scaler on training data and transform both training and test data\n",
    "X_train_scaled = scaler.fit_transform(X_train)\n",
    "X_test_scaled = scaler.transform(X_test)\n",
    "\n",
    "# Check the shape of the scaled features\n",
    "print(f\"Scaled training features shape: {X_train_scaled.shape}\")\n",
    "print(f\"Scaled test features shape: {X_test_scaled.shape}\")"
   ]
  },
  {
   "cell_type": "markdown",
   "id": "e7b54e26-9d1a-419b-a146-3dafcca89c16",
   "metadata": {},
   "source": [
    "#### Explanation\n",
    "Scaled training features shape: (1319, 18)\n",
    "This means the training set contains 1319 samples (rows) and 18 features (columns). Each feature has been standardized so that it has a mean of 0 and a standard deviation of 1.\n",
    "\n",
    "Scaled test features shape: (330, 18)\n",
    "This shows the test set has 330 samples, also with the same 18 standardized features as the training set.\n",
    "Ensuring both sets have the same number of features is crucial for making accurate predictions.\n",
    "\n"
   ]
  },
  {
   "cell_type": "markdown",
   "id": "d111601d-ae47-4dea-a444-a834db0774a4",
   "metadata": {},
   "source": [
    "### Task 6 Model Training\n"
   ]
  },
  {
   "cell_type": "markdown",
   "id": "9522c32d-3267-404c-9385-9e362b7c822a",
   "metadata": {},
   "source": [
    "Here, we train a regression model using the scaled training data. The goal is to enable the model to learn the patterns and relationships between the choosen input features and the target variable, life expectancy.\n",
    "Once trained, the model should be able to make accurate predictions when given new, unseen data.\n",
    "\n"
   ]
  },
  {
   "cell_type": "markdown",
   "id": "b2432d20-2347-47dc-acb7-ac298b0f0e2b",
   "metadata": {},
   "source": [
    "#### 1 Model Initialization\n",
    " We start by creating an instance of the LinearRegression model and train it using the scaled training data (X_train_scaled, y_train). This allows the model to learn how each input feature influences life expectancy\n",
    "\n",
    " This model tries to find the best-fitting line that explains the relationship between the input features and the target variable (life expectancy)."
   ]
  },
  {
   "cell_type": "code",
<<<<<<< HEAD
   "execution_count": 35,
=======
   "execution_count": 62,
>>>>>>> 950badd8db4f8f1c8ecadf352c3e5565d462410e
   "id": "c0e5f723-34ce-47b7-a29c-eb91405818cf",
   "metadata": {},
   "outputs": [],
   "source": [
    "# Initialize the linear regression model\n",
    "lr = LinearRegression()\n",
    "\n"
   ]
  },
  {
   "cell_type": "markdown",
   "id": "d7d6f2f4-752c-4a8c-aa6d-dc6159ca7854",
   "metadata": {},
   "source": [
    "#### 2 Training the Model\n",
    "After training, we use the model to make predictions on the scaled test set (X_test_scaled). This helps us evaluate how well the model generalizes to unseen data. During this step, the model learns patterns and relationships in the data."
   ]
  },
  {
   "cell_type": "code",
<<<<<<< HEAD
   "execution_count": 36,
=======
   "execution_count": 63,
>>>>>>> 950badd8db4f8f1c8ecadf352c3e5565d462410e
   "id": "6bf03a0c-7e05-4d12-bb47-6909c09cca6e",
   "metadata": {},
   "outputs": [
    {
     "data": {
      "text/html": [
<<<<<<< HEAD
       "<style>#sk-container-id-3 {\n",
       "  /* Definition of color scheme common for light and dark mode */\n",
       "  --sklearn-color-text: #000;\n",
       "  --sklearn-color-text-muted: #666;\n",
=======
       "<style>#sk-container-id-5 {\n",
       "  /* Definition of color scheme common for light and dark mode */\n",
       "  --sklearn-color-text: black;\n",
>>>>>>> 950badd8db4f8f1c8ecadf352c3e5565d462410e
       "  --sklearn-color-line: gray;\n",
       "  /* Definition of color scheme for unfitted estimators */\n",
       "  --sklearn-color-unfitted-level-0: #fff5e6;\n",
       "  --sklearn-color-unfitted-level-1: #f6e4d2;\n",
       "  --sklearn-color-unfitted-level-2: #ffe0b3;\n",
       "  --sklearn-color-unfitted-level-3: chocolate;\n",
       "  /* Definition of color scheme for fitted estimators */\n",
       "  --sklearn-color-fitted-level-0: #f0f8ff;\n",
       "  --sklearn-color-fitted-level-1: #d4ebff;\n",
       "  --sklearn-color-fitted-level-2: #b3dbfd;\n",
       "  --sklearn-color-fitted-level-3: cornflowerblue;\n",
       "\n",
       "  /* Specific color for light theme */\n",
       "  --sklearn-color-text-on-default-background: var(--sg-text-color, var(--theme-code-foreground, var(--jp-content-font-color1, black)));\n",
       "  --sklearn-color-background: var(--sg-background-color, var(--theme-background, var(--jp-layout-color0, white)));\n",
       "  --sklearn-color-border-box: var(--sg-text-color, var(--theme-code-foreground, var(--jp-content-font-color1, black)));\n",
       "  --sklearn-color-icon: #696969;\n",
       "\n",
       "  @media (prefers-color-scheme: dark) {\n",
       "    /* Redefinition of color scheme for dark theme */\n",
       "    --sklearn-color-text-on-default-background: var(--sg-text-color, var(--theme-code-foreground, var(--jp-content-font-color1, white)));\n",
       "    --sklearn-color-background: var(--sg-background-color, var(--theme-background, var(--jp-layout-color0, #111)));\n",
       "    --sklearn-color-border-box: var(--sg-text-color, var(--theme-code-foreground, var(--jp-content-font-color1, white)));\n",
       "    --sklearn-color-icon: #878787;\n",
       "  }\n",
       "}\n",
       "\n",
<<<<<<< HEAD
       "#sk-container-id-3 {\n",
       "  color: var(--sklearn-color-text);\n",
       "}\n",
       "\n",
       "#sk-container-id-3 pre {\n",
       "  padding: 0;\n",
       "}\n",
       "\n",
       "#sk-container-id-3 input.sk-hidden--visually {\n",
=======
       "#sk-container-id-5 {\n",
       "  color: var(--sklearn-color-text);\n",
       "}\n",
       "\n",
       "#sk-container-id-5 pre {\n",
       "  padding: 0;\n",
       "}\n",
       "\n",
       "#sk-container-id-5 input.sk-hidden--visually {\n",
>>>>>>> 950badd8db4f8f1c8ecadf352c3e5565d462410e
       "  border: 0;\n",
       "  clip: rect(1px 1px 1px 1px);\n",
       "  clip: rect(1px, 1px, 1px, 1px);\n",
       "  height: 1px;\n",
       "  margin: -1px;\n",
       "  overflow: hidden;\n",
       "  padding: 0;\n",
       "  position: absolute;\n",
       "  width: 1px;\n",
       "}\n",
       "\n",
<<<<<<< HEAD
       "#sk-container-id-3 div.sk-dashed-wrapped {\n",
=======
       "#sk-container-id-5 div.sk-dashed-wrapped {\n",
>>>>>>> 950badd8db4f8f1c8ecadf352c3e5565d462410e
       "  border: 1px dashed var(--sklearn-color-line);\n",
       "  margin: 0 0.4em 0.5em 0.4em;\n",
       "  box-sizing: border-box;\n",
       "  padding-bottom: 0.4em;\n",
       "  background-color: var(--sklearn-color-background);\n",
       "}\n",
       "\n",
<<<<<<< HEAD
       "#sk-container-id-3 div.sk-container {\n",
=======
       "#sk-container-id-5 div.sk-container {\n",
>>>>>>> 950badd8db4f8f1c8ecadf352c3e5565d462410e
       "  /* jupyter's `normalize.less` sets `[hidden] { display: none; }`\n",
       "     but bootstrap.min.css set `[hidden] { display: none !important; }`\n",
       "     so we also need the `!important` here to be able to override the\n",
       "     default hidden behavior on the sphinx rendered scikit-learn.org.\n",
       "     See: https://github.com/scikit-learn/scikit-learn/issues/21755 */\n",
       "  display: inline-block !important;\n",
       "  position: relative;\n",
       "}\n",
       "\n",
<<<<<<< HEAD
       "#sk-container-id-3 div.sk-text-repr-fallback {\n",
=======
       "#sk-container-id-5 div.sk-text-repr-fallback {\n",
>>>>>>> 950badd8db4f8f1c8ecadf352c3e5565d462410e
       "  display: none;\n",
       "}\n",
       "\n",
       "div.sk-parallel-item,\n",
       "div.sk-serial,\n",
       "div.sk-item {\n",
       "  /* draw centered vertical line to link estimators */\n",
       "  background-image: linear-gradient(var(--sklearn-color-text-on-default-background), var(--sklearn-color-text-on-default-background));\n",
       "  background-size: 2px 100%;\n",
       "  background-repeat: no-repeat;\n",
       "  background-position: center center;\n",
       "}\n",
       "\n",
       "/* Parallel-specific style estimator block */\n",
       "\n",
<<<<<<< HEAD
       "#sk-container-id-3 div.sk-parallel-item::after {\n",
=======
       "#sk-container-id-5 div.sk-parallel-item::after {\n",
>>>>>>> 950badd8db4f8f1c8ecadf352c3e5565d462410e
       "  content: \"\";\n",
       "  width: 100%;\n",
       "  border-bottom: 2px solid var(--sklearn-color-text-on-default-background);\n",
       "  flex-grow: 1;\n",
       "}\n",
       "\n",
<<<<<<< HEAD
       "#sk-container-id-3 div.sk-parallel {\n",
=======
       "#sk-container-id-5 div.sk-parallel {\n",
>>>>>>> 950badd8db4f8f1c8ecadf352c3e5565d462410e
       "  display: flex;\n",
       "  align-items: stretch;\n",
       "  justify-content: center;\n",
       "  background-color: var(--sklearn-color-background);\n",
       "  position: relative;\n",
       "}\n",
       "\n",
<<<<<<< HEAD
       "#sk-container-id-3 div.sk-parallel-item {\n",
=======
       "#sk-container-id-5 div.sk-parallel-item {\n",
>>>>>>> 950badd8db4f8f1c8ecadf352c3e5565d462410e
       "  display: flex;\n",
       "  flex-direction: column;\n",
       "}\n",
       "\n",
<<<<<<< HEAD
       "#sk-container-id-3 div.sk-parallel-item:first-child::after {\n",
=======
       "#sk-container-id-5 div.sk-parallel-item:first-child::after {\n",
>>>>>>> 950badd8db4f8f1c8ecadf352c3e5565d462410e
       "  align-self: flex-end;\n",
       "  width: 50%;\n",
       "}\n",
       "\n",
<<<<<<< HEAD
       "#sk-container-id-3 div.sk-parallel-item:last-child::after {\n",
=======
       "#sk-container-id-5 div.sk-parallel-item:last-child::after {\n",
>>>>>>> 950badd8db4f8f1c8ecadf352c3e5565d462410e
       "  align-self: flex-start;\n",
       "  width: 50%;\n",
       "}\n",
       "\n",
<<<<<<< HEAD
       "#sk-container-id-3 div.sk-parallel-item:only-child::after {\n",
=======
       "#sk-container-id-5 div.sk-parallel-item:only-child::after {\n",
>>>>>>> 950badd8db4f8f1c8ecadf352c3e5565d462410e
       "  width: 0;\n",
       "}\n",
       "\n",
       "/* Serial-specific style estimator block */\n",
       "\n",
<<<<<<< HEAD
       "#sk-container-id-3 div.sk-serial {\n",
=======
       "#sk-container-id-5 div.sk-serial {\n",
>>>>>>> 950badd8db4f8f1c8ecadf352c3e5565d462410e
       "  display: flex;\n",
       "  flex-direction: column;\n",
       "  align-items: center;\n",
       "  background-color: var(--sklearn-color-background);\n",
       "  padding-right: 1em;\n",
       "  padding-left: 1em;\n",
       "}\n",
       "\n",
       "\n",
       "/* Toggleable style: style used for estimator/Pipeline/ColumnTransformer box that is\n",
       "clickable and can be expanded/collapsed.\n",
       "- Pipeline and ColumnTransformer use this feature and define the default style\n",
       "- Estimators will overwrite some part of the style using the `sk-estimator` class\n",
       "*/\n",
       "\n",
       "/* Pipeline and ColumnTransformer style (default) */\n",
       "\n",
<<<<<<< HEAD
       "#sk-container-id-3 div.sk-toggleable {\n",
=======
       "#sk-container-id-5 div.sk-toggleable {\n",
>>>>>>> 950badd8db4f8f1c8ecadf352c3e5565d462410e
       "  /* Default theme specific background. It is overwritten whether we have a\n",
       "  specific estimator or a Pipeline/ColumnTransformer */\n",
       "  background-color: var(--sklearn-color-background);\n",
       "}\n",
       "\n",
       "/* Toggleable label */\n",
<<<<<<< HEAD
       "#sk-container-id-3 label.sk-toggleable__label {\n",
       "  cursor: pointer;\n",
       "  display: flex;\n",
=======
       "#sk-container-id-5 label.sk-toggleable__label {\n",
       "  cursor: pointer;\n",
       "  display: block;\n",
>>>>>>> 950badd8db4f8f1c8ecadf352c3e5565d462410e
       "  width: 100%;\n",
       "  margin-bottom: 0;\n",
       "  padding: 0.5em;\n",
       "  box-sizing: border-box;\n",
       "  text-align: center;\n",
<<<<<<< HEAD
       "  align-items: start;\n",
       "  justify-content: space-between;\n",
       "  gap: 0.5em;\n",
       "}\n",
       "\n",
       "#sk-container-id-3 label.sk-toggleable__label .caption {\n",
       "  font-size: 0.6rem;\n",
       "  font-weight: lighter;\n",
       "  color: var(--sklearn-color-text-muted);\n",
       "}\n",
       "\n",
       "#sk-container-id-3 label.sk-toggleable__label-arrow:before {\n",
=======
       "}\n",
       "\n",
       "#sk-container-id-5 label.sk-toggleable__label-arrow:before {\n",
>>>>>>> 950badd8db4f8f1c8ecadf352c3e5565d462410e
       "  /* Arrow on the left of the label */\n",
       "  content: \"▸\";\n",
       "  float: left;\n",
       "  margin-right: 0.25em;\n",
       "  color: var(--sklearn-color-icon);\n",
       "}\n",
       "\n",
<<<<<<< HEAD
       "#sk-container-id-3 label.sk-toggleable__label-arrow:hover:before {\n",
=======
       "#sk-container-id-5 label.sk-toggleable__label-arrow:hover:before {\n",
>>>>>>> 950badd8db4f8f1c8ecadf352c3e5565d462410e
       "  color: var(--sklearn-color-text);\n",
       "}\n",
       "\n",
       "/* Toggleable content - dropdown */\n",
       "\n",
<<<<<<< HEAD
       "#sk-container-id-3 div.sk-toggleable__content {\n",
       "  display: none;\n",
=======
       "#sk-container-id-5 div.sk-toggleable__content {\n",
       "  max-height: 0;\n",
       "  max-width: 0;\n",
       "  overflow: hidden;\n",
>>>>>>> 950badd8db4f8f1c8ecadf352c3e5565d462410e
       "  text-align: left;\n",
       "  /* unfitted */\n",
       "  background-color: var(--sklearn-color-unfitted-level-0);\n",
       "}\n",
       "\n",
<<<<<<< HEAD
       "#sk-container-id-3 div.sk-toggleable__content.fitted {\n",
=======
       "#sk-container-id-5 div.sk-toggleable__content.fitted {\n",
>>>>>>> 950badd8db4f8f1c8ecadf352c3e5565d462410e
       "  /* fitted */\n",
       "  background-color: var(--sklearn-color-fitted-level-0);\n",
       "}\n",
       "\n",
<<<<<<< HEAD
       "#sk-container-id-3 div.sk-toggleable__content pre {\n",
=======
       "#sk-container-id-5 div.sk-toggleable__content pre {\n",
>>>>>>> 950badd8db4f8f1c8ecadf352c3e5565d462410e
       "  margin: 0.2em;\n",
       "  border-radius: 0.25em;\n",
       "  color: var(--sklearn-color-text);\n",
       "  /* unfitted */\n",
       "  background-color: var(--sklearn-color-unfitted-level-0);\n",
       "}\n",
       "\n",
<<<<<<< HEAD
       "#sk-container-id-3 div.sk-toggleable__content.fitted pre {\n",
=======
       "#sk-container-id-5 div.sk-toggleable__content.fitted pre {\n",
>>>>>>> 950badd8db4f8f1c8ecadf352c3e5565d462410e
       "  /* unfitted */\n",
       "  background-color: var(--sklearn-color-fitted-level-0);\n",
       "}\n",
       "\n",
<<<<<<< HEAD
       "#sk-container-id-3 input.sk-toggleable__control:checked~div.sk-toggleable__content {\n",
       "  /* Expand drop-down */\n",
       "  display: block;\n",
       "  width: 100%;\n",
       "  overflow: visible;\n",
       "}\n",
       "\n",
       "#sk-container-id-3 input.sk-toggleable__control:checked~label.sk-toggleable__label-arrow:before {\n",
=======
       "#sk-container-id-5 input.sk-toggleable__control:checked~div.sk-toggleable__content {\n",
       "  /* Expand drop-down */\n",
       "  max-height: 200px;\n",
       "  max-width: 100%;\n",
       "  overflow: auto;\n",
       "}\n",
       "\n",
       "#sk-container-id-5 input.sk-toggleable__control:checked~label.sk-toggleable__label-arrow:before {\n",
>>>>>>> 950badd8db4f8f1c8ecadf352c3e5565d462410e
       "  content: \"▾\";\n",
       "}\n",
       "\n",
       "/* Pipeline/ColumnTransformer-specific style */\n",
       "\n",
<<<<<<< HEAD
       "#sk-container-id-3 div.sk-label input.sk-toggleable__control:checked~label.sk-toggleable__label {\n",
=======
       "#sk-container-id-5 div.sk-label input.sk-toggleable__control:checked~label.sk-toggleable__label {\n",
>>>>>>> 950badd8db4f8f1c8ecadf352c3e5565d462410e
       "  color: var(--sklearn-color-text);\n",
       "  background-color: var(--sklearn-color-unfitted-level-2);\n",
       "}\n",
       "\n",
<<<<<<< HEAD
       "#sk-container-id-3 div.sk-label.fitted input.sk-toggleable__control:checked~label.sk-toggleable__label {\n",
=======
       "#sk-container-id-5 div.sk-label.fitted input.sk-toggleable__control:checked~label.sk-toggleable__label {\n",
>>>>>>> 950badd8db4f8f1c8ecadf352c3e5565d462410e
       "  background-color: var(--sklearn-color-fitted-level-2);\n",
       "}\n",
       "\n",
       "/* Estimator-specific style */\n",
       "\n",
       "/* Colorize estimator box */\n",
<<<<<<< HEAD
       "#sk-container-id-3 div.sk-estimator input.sk-toggleable__control:checked~label.sk-toggleable__label {\n",
=======
       "#sk-container-id-5 div.sk-estimator input.sk-toggleable__control:checked~label.sk-toggleable__label {\n",
>>>>>>> 950badd8db4f8f1c8ecadf352c3e5565d462410e
       "  /* unfitted */\n",
       "  background-color: var(--sklearn-color-unfitted-level-2);\n",
       "}\n",
       "\n",
<<<<<<< HEAD
       "#sk-container-id-3 div.sk-estimator.fitted input.sk-toggleable__control:checked~label.sk-toggleable__label {\n",
=======
       "#sk-container-id-5 div.sk-estimator.fitted input.sk-toggleable__control:checked~label.sk-toggleable__label {\n",
>>>>>>> 950badd8db4f8f1c8ecadf352c3e5565d462410e
       "  /* fitted */\n",
       "  background-color: var(--sklearn-color-fitted-level-2);\n",
       "}\n",
       "\n",
<<<<<<< HEAD
       "#sk-container-id-3 div.sk-label label.sk-toggleable__label,\n",
       "#sk-container-id-3 div.sk-label label {\n",
=======
       "#sk-container-id-5 div.sk-label label.sk-toggleable__label,\n",
       "#sk-container-id-5 div.sk-label label {\n",
>>>>>>> 950badd8db4f8f1c8ecadf352c3e5565d462410e
       "  /* The background is the default theme color */\n",
       "  color: var(--sklearn-color-text-on-default-background);\n",
       "}\n",
       "\n",
       "/* On hover, darken the color of the background */\n",
<<<<<<< HEAD
       "#sk-container-id-3 div.sk-label:hover label.sk-toggleable__label {\n",
=======
       "#sk-container-id-5 div.sk-label:hover label.sk-toggleable__label {\n",
>>>>>>> 950badd8db4f8f1c8ecadf352c3e5565d462410e
       "  color: var(--sklearn-color-text);\n",
       "  background-color: var(--sklearn-color-unfitted-level-2);\n",
       "}\n",
       "\n",
       "/* Label box, darken color on hover, fitted */\n",
<<<<<<< HEAD
       "#sk-container-id-3 div.sk-label.fitted:hover label.sk-toggleable__label.fitted {\n",
=======
       "#sk-container-id-5 div.sk-label.fitted:hover label.sk-toggleable__label.fitted {\n",
>>>>>>> 950badd8db4f8f1c8ecadf352c3e5565d462410e
       "  color: var(--sklearn-color-text);\n",
       "  background-color: var(--sklearn-color-fitted-level-2);\n",
       "}\n",
       "\n",
       "/* Estimator label */\n",
       "\n",
<<<<<<< HEAD
       "#sk-container-id-3 div.sk-label label {\n",
=======
       "#sk-container-id-5 div.sk-label label {\n",
>>>>>>> 950badd8db4f8f1c8ecadf352c3e5565d462410e
       "  font-family: monospace;\n",
       "  font-weight: bold;\n",
       "  display: inline-block;\n",
       "  line-height: 1.2em;\n",
       "}\n",
       "\n",
<<<<<<< HEAD
       "#sk-container-id-3 div.sk-label-container {\n",
=======
       "#sk-container-id-5 div.sk-label-container {\n",
>>>>>>> 950badd8db4f8f1c8ecadf352c3e5565d462410e
       "  text-align: center;\n",
       "}\n",
       "\n",
       "/* Estimator-specific */\n",
<<<<<<< HEAD
       "#sk-container-id-3 div.sk-estimator {\n",
=======
       "#sk-container-id-5 div.sk-estimator {\n",
>>>>>>> 950badd8db4f8f1c8ecadf352c3e5565d462410e
       "  font-family: monospace;\n",
       "  border: 1px dotted var(--sklearn-color-border-box);\n",
       "  border-radius: 0.25em;\n",
       "  box-sizing: border-box;\n",
       "  margin-bottom: 0.5em;\n",
       "  /* unfitted */\n",
       "  background-color: var(--sklearn-color-unfitted-level-0);\n",
       "}\n",
       "\n",
<<<<<<< HEAD
       "#sk-container-id-3 div.sk-estimator.fitted {\n",
=======
       "#sk-container-id-5 div.sk-estimator.fitted {\n",
>>>>>>> 950badd8db4f8f1c8ecadf352c3e5565d462410e
       "  /* fitted */\n",
       "  background-color: var(--sklearn-color-fitted-level-0);\n",
       "}\n",
       "\n",
       "/* on hover */\n",
<<<<<<< HEAD
       "#sk-container-id-3 div.sk-estimator:hover {\n",
=======
       "#sk-container-id-5 div.sk-estimator:hover {\n",
>>>>>>> 950badd8db4f8f1c8ecadf352c3e5565d462410e
       "  /* unfitted */\n",
       "  background-color: var(--sklearn-color-unfitted-level-2);\n",
       "}\n",
       "\n",
<<<<<<< HEAD
       "#sk-container-id-3 div.sk-estimator.fitted:hover {\n",
=======
       "#sk-container-id-5 div.sk-estimator.fitted:hover {\n",
>>>>>>> 950badd8db4f8f1c8ecadf352c3e5565d462410e
       "  /* fitted */\n",
       "  background-color: var(--sklearn-color-fitted-level-2);\n",
       "}\n",
       "\n",
       "/* Specification for estimator info (e.g. \"i\" and \"?\") */\n",
       "\n",
       "/* Common style for \"i\" and \"?\" */\n",
       "\n",
       ".sk-estimator-doc-link,\n",
       "a:link.sk-estimator-doc-link,\n",
       "a:visited.sk-estimator-doc-link {\n",
       "  float: right;\n",
       "  font-size: smaller;\n",
       "  line-height: 1em;\n",
       "  font-family: monospace;\n",
       "  background-color: var(--sklearn-color-background);\n",
       "  border-radius: 1em;\n",
       "  height: 1em;\n",
       "  width: 1em;\n",
       "  text-decoration: none !important;\n",
<<<<<<< HEAD
       "  margin-left: 0.5em;\n",
       "  text-align: center;\n",
=======
       "  margin-left: 1ex;\n",
>>>>>>> 950badd8db4f8f1c8ecadf352c3e5565d462410e
       "  /* unfitted */\n",
       "  border: var(--sklearn-color-unfitted-level-1) 1pt solid;\n",
       "  color: var(--sklearn-color-unfitted-level-1);\n",
       "}\n",
       "\n",
       ".sk-estimator-doc-link.fitted,\n",
       "a:link.sk-estimator-doc-link.fitted,\n",
       "a:visited.sk-estimator-doc-link.fitted {\n",
       "  /* fitted */\n",
       "  border: var(--sklearn-color-fitted-level-1) 1pt solid;\n",
       "  color: var(--sklearn-color-fitted-level-1);\n",
       "}\n",
       "\n",
       "/* On hover */\n",
       "div.sk-estimator:hover .sk-estimator-doc-link:hover,\n",
       ".sk-estimator-doc-link:hover,\n",
       "div.sk-label-container:hover .sk-estimator-doc-link:hover,\n",
       ".sk-estimator-doc-link:hover {\n",
       "  /* unfitted */\n",
       "  background-color: var(--sklearn-color-unfitted-level-3);\n",
       "  color: var(--sklearn-color-background);\n",
       "  text-decoration: none;\n",
       "}\n",
       "\n",
       "div.sk-estimator.fitted:hover .sk-estimator-doc-link.fitted:hover,\n",
       ".sk-estimator-doc-link.fitted:hover,\n",
       "div.sk-label-container:hover .sk-estimator-doc-link.fitted:hover,\n",
       ".sk-estimator-doc-link.fitted:hover {\n",
       "  /* fitted */\n",
       "  background-color: var(--sklearn-color-fitted-level-3);\n",
       "  color: var(--sklearn-color-background);\n",
       "  text-decoration: none;\n",
       "}\n",
       "\n",
       "/* Span, style for the box shown on hovering the info icon */\n",
       ".sk-estimator-doc-link span {\n",
       "  display: none;\n",
       "  z-index: 9999;\n",
       "  position: relative;\n",
       "  font-weight: normal;\n",
       "  right: .2ex;\n",
       "  padding: .5ex;\n",
       "  margin: .5ex;\n",
       "  width: min-content;\n",
       "  min-width: 20ex;\n",
       "  max-width: 50ex;\n",
       "  color: var(--sklearn-color-text);\n",
       "  box-shadow: 2pt 2pt 4pt #999;\n",
       "  /* unfitted */\n",
       "  background: var(--sklearn-color-unfitted-level-0);\n",
       "  border: .5pt solid var(--sklearn-color-unfitted-level-3);\n",
       "}\n",
       "\n",
       ".sk-estimator-doc-link.fitted span {\n",
       "  /* fitted */\n",
       "  background: var(--sklearn-color-fitted-level-0);\n",
       "  border: var(--sklearn-color-fitted-level-3);\n",
       "}\n",
       "\n",
       ".sk-estimator-doc-link:hover span {\n",
       "  display: block;\n",
       "}\n",
       "\n",
       "/* \"?\"-specific style due to the `<a>` HTML tag */\n",
       "\n",
<<<<<<< HEAD
       "#sk-container-id-3 a.estimator_doc_link {\n",
=======
       "#sk-container-id-5 a.estimator_doc_link {\n",
>>>>>>> 950badd8db4f8f1c8ecadf352c3e5565d462410e
       "  float: right;\n",
       "  font-size: 1rem;\n",
       "  line-height: 1em;\n",
       "  font-family: monospace;\n",
       "  background-color: var(--sklearn-color-background);\n",
       "  border-radius: 1rem;\n",
       "  height: 1rem;\n",
       "  width: 1rem;\n",
       "  text-decoration: none;\n",
       "  /* unfitted */\n",
       "  color: var(--sklearn-color-unfitted-level-1);\n",
       "  border: var(--sklearn-color-unfitted-level-1) 1pt solid;\n",
       "}\n",
       "\n",
<<<<<<< HEAD
       "#sk-container-id-3 a.estimator_doc_link.fitted {\n",
=======
       "#sk-container-id-5 a.estimator_doc_link.fitted {\n",
>>>>>>> 950badd8db4f8f1c8ecadf352c3e5565d462410e
       "  /* fitted */\n",
       "  border: var(--sklearn-color-fitted-level-1) 1pt solid;\n",
       "  color: var(--sklearn-color-fitted-level-1);\n",
       "}\n",
       "\n",
       "/* On hover */\n",
<<<<<<< HEAD
       "#sk-container-id-3 a.estimator_doc_link:hover {\n",
=======
       "#sk-container-id-5 a.estimator_doc_link:hover {\n",
>>>>>>> 950badd8db4f8f1c8ecadf352c3e5565d462410e
       "  /* unfitted */\n",
       "  background-color: var(--sklearn-color-unfitted-level-3);\n",
       "  color: var(--sklearn-color-background);\n",
       "  text-decoration: none;\n",
       "}\n",
       "\n",
<<<<<<< HEAD
       "#sk-container-id-3 a.estimator_doc_link.fitted:hover {\n",
       "  /* fitted */\n",
       "  background-color: var(--sklearn-color-fitted-level-3);\n",
       "}\n",
       "\n",
       ".estimator-table summary {\n",
       "    padding: .5rem;\n",
       "    font-family: monospace;\n",
       "    cursor: pointer;\n",
       "}\n",
       "\n",
       ".estimator-table details[open] {\n",
       "    padding-left: 0.1rem;\n",
       "    padding-right: 0.1rem;\n",
       "    padding-bottom: 0.3rem;\n",
       "}\n",
       "\n",
       ".estimator-table .parameters-table {\n",
       "    margin-left: auto !important;\n",
       "    margin-right: auto !important;\n",
       "}\n",
       "\n",
       ".estimator-table .parameters-table tr:nth-child(odd) {\n",
       "    background-color: #fff;\n",
       "}\n",
       "\n",
       ".estimator-table .parameters-table tr:nth-child(even) {\n",
       "    background-color: #f6f6f6;\n",
       "}\n",
       "\n",
       ".estimator-table .parameters-table tr:hover {\n",
       "    background-color: #e0e0e0;\n",
       "}\n",
       "\n",
       ".estimator-table table td {\n",
       "    border: 1px solid rgba(106, 105, 104, 0.232);\n",
       "}\n",
       "\n",
       ".user-set td {\n",
       "    color:rgb(255, 94, 0);\n",
       "    text-align: left;\n",
       "}\n",
       "\n",
       ".user-set td.value pre {\n",
       "    color:rgb(255, 94, 0) !important;\n",
       "    background-color: transparent !important;\n",
       "}\n",
       "\n",
       ".default td {\n",
       "    color: black;\n",
       "    text-align: left;\n",
       "}\n",
       "\n",
       ".user-set td i,\n",
       ".default td i {\n",
       "    color: black;\n",
       "}\n",
       "\n",
       ".copy-paste-icon {\n",
       "    background-image: url(data:image/svg+xml;base64,PHN2ZyB4bWxucz0iaHR0cDovL3d3dy53My5vcmcvMjAwMC9zdmciIHZpZXdCb3g9IjAgMCA0NDggNTEyIj48IS0tIUZvbnQgQXdlc29tZSBGcmVlIDYuNy4yIGJ5IEBmb250YXdlc29tZSAtIGh0dHBzOi8vZm9udGF3ZXNvbWUuY29tIExpY2Vuc2UgLSBodHRwczovL2ZvbnRhd2Vzb21lLmNvbS9saWNlbnNlL2ZyZWUgQ29weXJpZ2h0IDIwMjUgRm9udGljb25zLCBJbmMuLS0+PHBhdGggZD0iTTIwOCAwTDMzMi4xIDBjMTIuNyAwIDI0LjkgNS4xIDMzLjkgMTQuMWw2Ny45IDY3LjljOSA5IDE0LjEgMjEuMiAxNC4xIDMzLjlMNDQ4IDMzNmMwIDI2LjUtMjEuNSA0OC00OCA0OGwtMTkyIDBjLTI2LjUgMC00OC0yMS41LTQ4LTQ4bDAtMjg4YzAtMjYuNSAyMS41LTQ4IDQ4LTQ4ek00OCAxMjhsODAgMCAwIDY0LTY0IDAgMCAyNTYgMTkyIDAgMC0zMiA2NCAwIDAgNDhjMCAyNi41LTIxLjUgNDgtNDggNDhMNDggNTEyYy0yNi41IDAtNDgtMjEuNS00OC00OEwwIDE3NmMwLTI2LjUgMjEuNS00OCA0OC00OHoiLz48L3N2Zz4=);\n",
       "    background-repeat: no-repeat;\n",
       "    background-size: 14px 14px;\n",
       "    background-position: 0;\n",
       "    display: inline-block;\n",
       "    width: 14px;\n",
       "    height: 14px;\n",
       "    cursor: pointer;\n",
       "}\n",
       "</style><body><div id=\"sk-container-id-3\" class=\"sk-top-container\"><div class=\"sk-text-repr-fallback\"><pre>LinearRegression()</pre><b>In a Jupyter environment, please rerun this cell to show the HTML representation or trust the notebook. <br />On GitHub, the HTML representation is unable to render, please try loading this page with nbviewer.org.</b></div><div class=\"sk-container\" hidden><div class=\"sk-item\"><div class=\"sk-estimator fitted sk-toggleable\"><input class=\"sk-toggleable__control sk-hidden--visually\" id=\"sk-estimator-id-3\" type=\"checkbox\" checked><label for=\"sk-estimator-id-3\" class=\"sk-toggleable__label fitted sk-toggleable__label-arrow\"><div><div>LinearRegression</div></div><div><a class=\"sk-estimator-doc-link fitted\" rel=\"noreferrer\" target=\"_blank\" href=\"https://scikit-learn.org/1.7/modules/generated/sklearn.linear_model.LinearRegression.html\">?<span>Documentation for LinearRegression</span></a><span class=\"sk-estimator-doc-link fitted\">i<span>Fitted</span></span></div></label><div class=\"sk-toggleable__content fitted\" data-param-prefix=\"\">\n",
       "        <div class=\"estimator-table\">\n",
       "            <details>\n",
       "                <summary>Parameters</summary>\n",
       "                <table class=\"parameters-table\">\n",
       "                  <tbody>\n",
       "                    \n",
       "        <tr class=\"default\">\n",
       "            <td><i class=\"copy-paste-icon\"\n",
       "                 onclick=\"copyToClipboard('fit_intercept',\n",
       "                          this.parentElement.nextElementSibling)\"\n",
       "            ></i></td>\n",
       "            <td class=\"param\">fit_intercept&nbsp;</td>\n",
       "            <td class=\"value\">True</td>\n",
       "        </tr>\n",
       "    \n",
       "\n",
       "        <tr class=\"default\">\n",
       "            <td><i class=\"copy-paste-icon\"\n",
       "                 onclick=\"copyToClipboard('copy_X',\n",
       "                          this.parentElement.nextElementSibling)\"\n",
       "            ></i></td>\n",
       "            <td class=\"param\">copy_X&nbsp;</td>\n",
       "            <td class=\"value\">True</td>\n",
       "        </tr>\n",
       "    \n",
       "\n",
       "        <tr class=\"default\">\n",
       "            <td><i class=\"copy-paste-icon\"\n",
       "                 onclick=\"copyToClipboard('tol',\n",
       "                          this.parentElement.nextElementSibling)\"\n",
       "            ></i></td>\n",
       "            <td class=\"param\">tol&nbsp;</td>\n",
       "            <td class=\"value\">1e-06</td>\n",
       "        </tr>\n",
       "    \n",
       "\n",
       "        <tr class=\"default\">\n",
       "            <td><i class=\"copy-paste-icon\"\n",
       "                 onclick=\"copyToClipboard('n_jobs',\n",
       "                          this.parentElement.nextElementSibling)\"\n",
       "            ></i></td>\n",
       "            <td class=\"param\">n_jobs&nbsp;</td>\n",
       "            <td class=\"value\">None</td>\n",
       "        </tr>\n",
       "    \n",
       "\n",
       "        <tr class=\"default\">\n",
       "            <td><i class=\"copy-paste-icon\"\n",
       "                 onclick=\"copyToClipboard('positive',\n",
       "                          this.parentElement.nextElementSibling)\"\n",
       "            ></i></td>\n",
       "            <td class=\"param\">positive&nbsp;</td>\n",
       "            <td class=\"value\">False</td>\n",
       "        </tr>\n",
       "    \n",
       "                  </tbody>\n",
       "                </table>\n",
       "            </details>\n",
       "        </div>\n",
       "    </div></div></div></div></div><script>function copyToClipboard(text, element) {\n",
       "    // Get the parameter prefix from the closest toggleable content\n",
       "    const toggleableContent = element.closest('.sk-toggleable__content');\n",
       "    const paramPrefix = toggleableContent ? toggleableContent.dataset.paramPrefix : '';\n",
       "    const fullParamName = paramPrefix ? `${paramPrefix}${text}` : text;\n",
       "\n",
       "    const originalStyle = element.style;\n",
       "    const computedStyle = window.getComputedStyle(element);\n",
       "    const originalWidth = computedStyle.width;\n",
       "    const originalHTML = element.innerHTML.replace('Copied!', '');\n",
       "\n",
       "    navigator.clipboard.writeText(fullParamName)\n",
       "        .then(() => {\n",
       "            element.style.width = originalWidth;\n",
       "            element.style.color = 'green';\n",
       "            element.innerHTML = \"Copied!\";\n",
       "\n",
       "            setTimeout(() => {\n",
       "                element.innerHTML = originalHTML;\n",
       "                element.style = originalStyle;\n",
       "            }, 2000);\n",
       "        })\n",
       "        .catch(err => {\n",
       "            console.error('Failed to copy:', err);\n",
       "            element.style.color = 'red';\n",
       "            element.innerHTML = \"Failed!\";\n",
       "            setTimeout(() => {\n",
       "                element.innerHTML = originalHTML;\n",
       "                element.style = originalStyle;\n",
       "            }, 2000);\n",
       "        });\n",
       "    return false;\n",
       "}\n",
       "\n",
       "document.querySelectorAll('.fa-regular.fa-copy').forEach(function(element) {\n",
       "    const toggleableContent = element.closest('.sk-toggleable__content');\n",
       "    const paramPrefix = toggleableContent ? toggleableContent.dataset.paramPrefix : '';\n",
       "    const paramName = element.parentElement.nextElementSibling.textContent.trim();\n",
       "    const fullParamName = paramPrefix ? `${paramPrefix}${paramName}` : paramName;\n",
       "\n",
       "    element.setAttribute('title', fullParamName);\n",
       "});\n",
       "</script></body>"
=======
       "#sk-container-id-5 a.estimator_doc_link.fitted:hover {\n",
       "  /* fitted */\n",
       "  background-color: var(--sklearn-color-fitted-level-3);\n",
       "}\n",
       "</style><div id=\"sk-container-id-5\" class=\"sk-top-container\"><div class=\"sk-text-repr-fallback\"><pre>LinearRegression()</pre><b>In a Jupyter environment, please rerun this cell to show the HTML representation or trust the notebook. <br />On GitHub, the HTML representation is unable to render, please try loading this page with nbviewer.org.</b></div><div class=\"sk-container\" hidden><div class=\"sk-item\"><div class=\"sk-estimator fitted sk-toggleable\"><input class=\"sk-toggleable__control sk-hidden--visually\" id=\"sk-estimator-id-5\" type=\"checkbox\" checked><label for=\"sk-estimator-id-5\" class=\"sk-toggleable__label fitted sk-toggleable__label-arrow fitted\">&nbsp;&nbsp;LinearRegression<a class=\"sk-estimator-doc-link fitted\" rel=\"noreferrer\" target=\"_blank\" href=\"https://scikit-learn.org/1.5/modules/generated/sklearn.linear_model.LinearRegression.html\">?<span>Documentation for LinearRegression</span></a><span class=\"sk-estimator-doc-link fitted\">i<span>Fitted</span></span></label><div class=\"sk-toggleable__content fitted\"><pre>LinearRegression()</pre></div> </div></div></div></div>"
>>>>>>> 950badd8db4f8f1c8ecadf352c3e5565d462410e
      ],
      "text/plain": [
       "LinearRegression()"
      ]
     },
<<<<<<< HEAD
     "execution_count": 36,
=======
     "execution_count": 63,
>>>>>>> 950badd8db4f8f1c8ecadf352c3e5565d462410e
     "metadata": {},
     "output_type": "execute_result"
    }
   ],
   "source": [
    "# Train the model using the scaled training data\n",
    "lr.fit(X_train_scaled, y_train)\n"
   ]
  },
  {
   "cell_type": "markdown",
   "id": "31fb53a5-f594-4716-b37b-8a8c0b8bea38",
   "metadata": {},
   "source": [
    "#### 3 Making Predictions\n",
    "After the model has learned from the training data, we use it to predict life expectancy on the scaled test set (X_test_scaled). This gives us an idea of how well the model performs on new, unseen data."
   ]
  },
  {
   "cell_type": "code",
<<<<<<< HEAD
   "execution_count": 37,
=======
   "execution_count": 64,
>>>>>>> 950badd8db4f8f1c8ecadf352c3e5565d462410e
   "id": "86aaae19-6dc3-4500-9fd2-c79738a3352b",
   "metadata": {},
   "outputs": [],
   "source": [
    "# Predict life expectancy on test set\n",
    "y_pred = lr.predict(X_test_scaled)\n"
   ]
  },
  {
   "cell_type": "markdown",
   "id": "36c6af76-9e32-4247-ad15-7742c65bc4ce",
   "metadata": {},
   "source": [
    "### Task 7 Model Evaluation  \n",
    "   Assess model performance using suitable metrics (RMSE, R²).\n",
    "\n",
    "We evaluate the performance of the trained regression model using the test set. This step helps us understand how well the model generalizes to new, unseen data.\n",
    "\n",
    " metrics for regression evaluation are:\n",
    "\n",
    "Root Mean Squared Error (RMSE): Measures the average difference between predicted and actual values. Lower RMSE indicates better performance.\n",
    "\n",
    "R² Score (Coefficient of Determination): Indicates how well the model explains the variability of the target variable. A score closer to 1 means better fit."
   ]
  },
  {
   "cell_type": "markdown",
   "id": "81a0ce1e-aace-4ef9-886b-d284e75229ea",
   "metadata": {},
   "source": [
    "#### Metric Calculation:"
   ]
  },
  {
   "cell_type": "code",
<<<<<<< HEAD
   "execution_count": 38,
=======
   "execution_count": 65,
>>>>>>> 950badd8db4f8f1c8ecadf352c3e5565d462410e
   "id": "4a208ba0-3c9e-4019-8989-56e83eacefa6",
   "metadata": {},
   "outputs": [],
   "source": [
    "mse = mean_squared_error(y_test, y_pred)\n",
    "rmse = np.sqrt(mse)\n",
    "r2 = r2_score(y_test, y_pred)\n"
   ]
  },
  {
   "cell_type": "markdown",
   "id": "ed7df478-88b3-4417-a61e-2f9e7102894b",
   "metadata": {},
   "source": [
    "#### Results:"
   ]
  },
  {
   "cell_type": "code",
<<<<<<< HEAD
   "execution_count": 39,
=======
   "execution_count": 66,
>>>>>>> 950badd8db4f8f1c8ecadf352c3e5565d462410e
   "id": "26f5917c-4b16-413c-a2af-f829a949001c",
   "metadata": {},
   "outputs": [
    {
     "name": "stdout",
     "output_type": "stream",
     "text": [
      "Root Mean Squared Error (RMSE): 3.58\n",
      "R² Score: 0.82\n"
     ]
    }
   ],
   "source": [
    "print(f\"Root Mean Squared Error (RMSE): {rmse:.2f}\")\n",
    "print(f\"R² Score: {r2:.2f}\")\n"
   ]
  },
  {
   "cell_type": "markdown",
   "id": "fd024056-cbb0-4159-8575-cfeaf9e4b100",
   "metadata": {},
   "source": [
    "#### Explanation \n",
    "Root Mean Squared Error (RMSE): 3.58\n",
    "This means that, on average, the model's predictions are about 3.58 years off from the actual life expectancy values. A lower RMSE indicates better predictive accuracy. Since life expectancy is typically measured in years, this gives a direct sense of the average prediction error.\n",
    "\n",
    "R² Score: 0.82\n",
    "The R² score (the coefficient of determination) indicates that 82% of the variability in life expectancy can be explained by the model using the input features.\n",
    "\n",
    "An R² of 1.0 would mean perfect prediction.\n",
    "\n",
    "An R² of 0.82 is considered very good for many real-world regression problems.\n",
    "\n",
    "The model performs well: it explains most of the variation in life expectancy, with predictions deviating from actual values by only around 3.6 years on average"
   ]
  },
  {
   "cell_type": "markdown",
   "id": "a82f4bbe-7700-4bfd-bed2-2160fb0cbe79",
   "metadata": {},
   "source": [
    "#### Visualization"
   ]
  },
  {
   "cell_type": "code",
<<<<<<< HEAD
   "execution_count": 40,
=======
   "execution_count": 67,
>>>>>>> 950badd8db4f8f1c8ecadf352c3e5565d462410e
   "id": "1d4c8058-0e54-499f-abf8-7b4db5f56418",
   "metadata": {},
   "outputs": [
    {
     "data": {
<<<<<<< HEAD
      "image/png": "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",
=======
      "image/png": "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",
>>>>>>> 950badd8db4f8f1c8ecadf352c3e5565d462410e
      "text/plain": [
       "<Figure size 800x600 with 1 Axes>"
      ]
     },
     "metadata": {},
     "output_type": "display_data"
    }
   ],
   "source": [
    "import matplotlib.pyplot as plt\n",
    "plt.figure(figsize=(8,6))\n",
    "plt.scatter(y_test, y_pred, alpha=0.7)\n",
    "plt.xlabel('Actual Life Expectancy')\n",
    "plt.ylabel('Predicted Life Expectancy')\n",
    "plt.title('Actual vs Predicted Life Expectancy')\n",
    "plt.plot([y_test.min(), y_test.max()], [y_test.min(), y_test.max()], 'r--')\n",
    "plt.show()\n"
   ]
  },
  {
   "cell_type": "markdown",
   "id": "4c84568e-88e4-4487-a488-5e6764a10d8a",
   "metadata": {},
   "source": [
    "#### Interpretation of the Graph\n",
    "The scatter plot compares the actual life expectancy values (on the x-axis) with the predicted values from the model (on the y-axis).\n",
    "\n",
    "Each dot represents one country or data point in the test set.\n",
    "\n",
    "The red dashed line represents the ideal situation where the predicted value exactly equals the actual value (i.e., perfect prediction).\n",
    "\n",
    "The closer the points are to the red line, the better the model’s predictions."
   ]
  },
  {
   "cell_type": "markdown",
   "id": "08802393-3d63-4845-acec-c3faf9aa5d54",
   "metadata": {},
   "source": [
    "#### Deductions \n",
    "Most points cluster around the red line, showing that the predictions are generally close to the true values.\n",
    "\n",
    "A few points are slightly off the line, indicating minor prediction errors, which is expected in real-world data.\n",
    "\n",
    "There are no extreme outliers, suggesting the model is stable and reliable across the test data."
   ]
  },
  {
   "cell_type": "markdown",
   "id": "e54e8a8f-4961-45f7-a2cc-8ba616858b85",
   "metadata": {},
   "source": [
    "#### Conclusion\n",
    "The graph shows that the model’s predictions are quite accurate, with most predicted values closely matching the actual life expectancy. This supports the strong performance indicated by the RMSE and R² metrics."
   ]
  },
  {
   "cell_type": "markdown",
   "id": "a0fb6223-1281-40f8-8956-20536df8519f",
   "metadata": {},
   "source": [
    "### Task 8 Cross-Validation:\n",
    "Perform cross-validation to ensure the robustness and generalizability of the models.\n",
    "\n",
    "Cross-validation helps assess how well a model generalizes to unseen data. Instead of relying on just one train-test split, we divide the dataset into k equally sized folds (subsets). The model is trained on k–1 folds and tested on the remaining fold. This process is repeated k times, each time with a different fold used for testing."
   ]
  },
  {
   "cell_type": "code",
<<<<<<< HEAD
   "execution_count": 41,
=======
   "execution_count": 68,
>>>>>>> 950badd8db4f8f1c8ecadf352c3e5565d462410e
   "id": "f655ba25-bd84-429c-8f7b-0005080101bb",
   "metadata": {},
   "outputs": [
    {
     "name": "stdout",
     "output_type": "stream",
     "text": [
      "Cross-Validation RMSE Scores: [3.65488203 3.62403051 3.53440973 3.68775984 3.57688802]\n",
      "Average CV RMSE: 3.62\n"
     ]
    }
   ],
   "source": [
    "from sklearn.model_selection import cross_val_score\n",
    "\n",
    "# Perform 5-fold cross-validation using the scaled data\n",
    "cv_scores = cross_val_score(\n",
    "    lr, X_train_scaled, y_train, cv=5, scoring='neg_mean_squared_error'\n",
    ")\n",
    "cv_rmse_scores = np.sqrt(-cv_scores)\n",
    "\n",
    "print(\"Cross-Validation RMSE Scores:\", cv_rmse_scores)\n",
    "print(f\"Average CV RMSE: {cv_rmse_scores.mean():.2f}\")"
   ]
  },
  {
   "cell_type": "markdown",
   "id": "4c6a6028-eaf6-41fc-a1f5-8726e68636c7",
   "metadata": {},
   "source": [
    "#### Explanation \n",
    "#### Cross-Validation RMSE Scores:\n",
    "[3.65, 3.62, 3.53, 3.69, 3.58]\n",
    "These values represent the Root Mean Squared Error (RMSE) for each of the 5 validation folds. The scores are fairly consistent, which suggests that the model is performing reliably across different subsets of the training data.\n"
   ]
  },
  {
   "cell_type": "markdown",
   "id": "27a6d627-db27-475c-bc0d-a833d1f6356a",
   "metadata": {},
   "source": [
    "#### Average CV RMSE: 3.62\n",
    "\n",
    "This value gives an overall estimate of how much, on average, the model's predictions deviate from the actual life expectancy values (on the training data). An RMSE of 3.62 means that the model's predictions are typically within ±3.62 years of the true values."
   ]
  },
  {
   "cell_type": "markdown",
   "id": "e3211e5f-6319-4f7b-9040-3806c09a8dae",
   "metadata": {},
   "source": [
    "#### Conclusion \n",
    "Thge model has stable performance across all folds, indicating that it generalizes well to different samples.\n",
    "\n",
    "The average RMSE is close to the test set RMSE (3.58), confirming that the model is not overfitting or underfitting severely."
   ]
  },
  {
   "cell_type": "markdown",
   "id": "04663035-b4d6-4025-ba3a-99c35afcb2a7",
   "metadata": {},
   "source": [
    "### Task 9 Feature Impact Analysis: \n",
    "Evaluate how newly engineered features influence model performance.\n",
    "\n",
    "Understanding the impact of each feature helps us determine which factors are most influential in predicting life expectancy. In the case of Linear Regression, the model learns a coefficient (weight) for each input feature that indicates how much that feature contributes to the prediction.\n",
    "\n",
    "Positive Coefficients: A positive value means that an increase in the feature leads to an increase in predicted life expectancy.\n",
    "\n",
    "Negative Coefficients: A negative value indicates that higher values of the feature are associated with lower life expectancy.\n",
    "\n",
    "Magnitude of Coefficient: The larger the absolute value, the stronger the impact of that feature on the prediction (whether positive or negative)."
   ]
  },
  {
   "cell_type": "code",
<<<<<<< HEAD
   "execution_count": 42,
=======
   "execution_count": 69,
>>>>>>> 950badd8db4f8f1c8ecadf352c3e5565d462410e
   "id": "c6ba49a3-617c-4d13-a4b1-e583745d8a9c",
   "metadata": {},
   "outputs": [
    {
     "name": "stdout",
     "output_type": "stream",
     "text": [
      "Feature Importance (Linear Regression Coefficients):\n",
      "infant deaths                      10.361453\n",
      "Schooling                           2.738916\n",
      "Income composition of resources     1.800627\n",
      "BMI                                 0.651904\n",
      "percentage expenditure              0.626661\n",
      "Status                              0.331931\n",
      "Diphtheria                          0.307484\n",
      "Total expenditure                   0.266767\n",
      "Polio                               0.168788\n",
      "GDP                                 0.153306\n",
      "Population                          0.045458\n",
      "Measles                            -0.048037\n",
      "Hepatitis B                        -0.172649\n",
      "Year                               -0.466285\n",
      "Alcohol                            -0.551584\n",
      "Adult Mortality                    -2.092451\n",
      "HIV/AIDS                           -2.776481\n",
      "under-five deaths                 -10.692049\n",
      "dtype: float64\n"
     ]
    },
    {
     "data": {
<<<<<<< HEAD
      "image/png": "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",
=======
      "image/png": "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",
>>>>>>> 950badd8db4f8f1c8ecadf352c3e5565d462410e
      "text/plain": [
       "<Figure size 1000x600 with 1 Axes>"
      ]
     },
     "metadata": {},
     "output_type": "display_data"
    }
   ],
   "source": [
    "# Feature impact for Linear Regression: show coefficients\n",
    "feature_importance = pd.Series(lr.coef_, index=X.columns)\n",
    "feature_importance = feature_importance.sort_values(ascending=False)\n",
    "\n",
    "print(\"Feature Importance (Linear Regression Coefficients):\")\n",
    "print(feature_importance)\n",
    "\n",
    "# Optional: Visualize feature importance\n",
    "import matplotlib.pyplot as plt\n",
    "\n",
    "plt.figure(figsize=(10,6))\n",
    "feature_importance.plot(kind='bar')\n",
    "plt.title('Feature Importance for Life Expectancy Prediction')\n",
    "plt.ylabel('Coefficient Value')\n",
    "plt.show()"
   ]
  },
  {
   "cell_type": "markdown",
   "id": "03e56335-37e1-4595-822a-f7bf9c3b560a",
   "metadata": {},
   "source": [
    "#### Explanation"
   ]
  },
  {
   "cell_type": "markdown",
   "id": "97acb16a-8970-4781-8cdd-16da8bfafe63",
   "metadata": {},
   "source": [
    "These are the coefficients (weights) assigned to each feature by the linear regression model. They tell us how each feature affects life expectancy, assuming all other features are held constant.\n",
    "\n",
    "Positive values = the feature increases life expectancy.\n",
    "\n",
    "Negative values = the feature decreases life expectancy.\n",
    "\n",
    "Larger absolute values = stronger impact (either positive or negative).\n",
    "\n",
    "\n",
    "\n",
    "**Key Interpretations**\n",
    "\n",
    "#### Features that Increase Life Expectancy:\n",
    "\n",
    "| Feature                             | Coefficient | Meaning                                                                                                                                                                                                   |\n",
    "| ----------------------------------- | ----------- | --------------------------------------------------------------------------------------------------------------------------------------------------------------------------------------------------------- |\n",
    "| **Infant deaths**                   | **+10.36**  | **(Strange)**: This might indicate a data scaling or correlation issue, because in reality, more infant deaths should **decrease** life expectancy. You may want to revisit or standardize this variable. |\n",
    "| **Schooling**                       | +2.74       | More years of schooling → longer life expectancy.                                                                                                                                                         |\n",
    "| **Income composition of resources** | +1.80       | Better income distribution and access → healthier lives.                                                                                                                                                  |\n",
    "| **BMI**                             | +0.65       | Moderate BMI (healthy weight) may support longevity.                                                                                                                                                      |\n",
    "| **% Expenditure**                   | +0.63       | Higher government health spending → better outcomes.                                                                                                                                                      |\n",
    "| **Status (Developed/Developing)**   | +0.33       | Developed countries tend to have higher life expectancy.                                                                                                                                                  |\n",
    "| **Diphtheria**                      | +0.31       | More immunization coverage improves health.                                                                                                                                                               |\n",
    "| **Total expenditure**               | +0.27       | Total health-related spending helps improve life expectancy.                                                                                                                                              |\n",
    "\n",
    "#### Features that Decrease Life Expectancy:\n",
    "\n",
    "| Feature                 | Coefficient| Meaning                                                                                                            |\n",
    "| --------------------- | ----------- | ------------------------------------------------------------------------------------------------------------------ |\n",
    "| **Under-five deaths** | **–10.69**  | More under-five deaths → much lower life expectancy.                                                               |\n",
    "| **HIV/AIDS**          | –2.78       | Higher HIV/AIDS prevalence → significant negative impact.                                                          |\n",
    "| **Adult Mortality**   | –2.09       | Higher adult mortality → lower average life expectancy.                                                            |\n",
    "| **Alcohol**           | –0.55       | Possibly linked to alcohol-related health issues.                                                                  |\n",
    "| **Year**              | –0.47       | Could reflect a modeling quirk—life expectancy generally increases over time, so this might need further checking. |\n",
    "| **Hepatitis B**       | –0.17       | Lower coverage or other indirect effects might cause slight decrease.                                              |\n",
    "| **Measles**           | –0.05       | Minor impact in this model (but still negative).                                                                   |\n",
    "\n",
    "\n",
    "#### Summary\n",
    "Education and income improve life expectancy.   \n",
    "Mortality-related features reduce life expectancy. \n",
    "\n"
   ]
  },
  {
   "cell_type": "markdown",
   "id": "825d4b7c-a339-4b60-8f90-d57c246eb924",
   "metadata": {},
   "source": [
    "#### Task 10 Model Saving and Deployment\n",
    "    \n"
   ]
  },
  {
   "cell_type": "code",
<<<<<<< HEAD
   "execution_count": 43,
=======
   "execution_count": 71,
>>>>>>> 950badd8db4f8f1c8ecadf352c3e5565d462410e
   "id": "87f9b9a2-daf6-4894-9c5e-547713291629",
   "metadata": {},
   "outputs": [
    {
     "data": {
      "text/plain": [
       "['life_expectancy_linear_regression_model.pkl']"
      ]
     },
<<<<<<< HEAD
     "execution_count": 43,
=======
     "execution_count": 71,
>>>>>>> 950badd8db4f8f1c8ecadf352c3e5565d462410e
     "metadata": {},
     "output_type": "execute_result"
    }
   ],
   "source": [
    "import joblib\n",
    "\n",
    "# Save the trained model to a file\n",
    "joblib.dump(lr, 'life_expectancy_linear_regression_model.pkl')\n",
    "\n",
    "# To load the model later:\n",
    "# loaded_model = joblib.load('life_expectancy_linear_regression_model.pkl')"
   ]
<<<<<<< HEAD
=======
  },
  {
   "cell_type": "code",
   "execution_count": null,
   "id": "dc10cb20-5084-4693-8ea5-5f6c1cbf5d87",
   "metadata": {},
   "outputs": [],
   "source": []
>>>>>>> 950badd8db4f8f1c8ecadf352c3e5565d462410e
  }
 ],
 "metadata": {
  "kernelspec": {
<<<<<<< HEAD
   "display_name": "Python 3",
   "language": "python",
   "name": "python3"
=======
   "display_name": "Python [conda env:base] *",
   "language": "python",
   "name": "conda-base-py"
>>>>>>> 950badd8db4f8f1c8ecadf352c3e5565d462410e
  },
  "language_info": {
   "codemirror_mode": {
    "name": "ipython",
    "version": 3
   },
   "file_extension": ".py",
   "mimetype": "text/x-python",
   "name": "python",
   "nbconvert_exporter": "python",
   "pygments_lexer": "ipython3",
<<<<<<< HEAD
   "version": "3.12.3"
=======
   "version": "3.12.7"
>>>>>>> 950badd8db4f8f1c8ecadf352c3e5565d462410e
  }
 },
 "nbformat": 4,
 "nbformat_minor": 5
}
